{
 "cells": [
  {
   "cell_type": "markdown",
   "id": "d8aca390-4844-4a96-b5e8-e757bfef666f",
   "metadata": {
    "tags": []
   },
   "source": [
    "# Data Science Tools and Ecosystem "
   ]
  },
  {
   "cell_type": "markdown",
   "id": "7e52daec-afd3-4c04-9ec5-211b56a470eb",
   "metadata": {},
   "source": [
    "In this notebook, Data Science and Ecosystem are sumarized."
   ]
  },
  {
   "cell_type": "markdown",
   "id": "32006084-013c-477c-8ebf-1d7e40d001d8",
   "metadata": {},
   "source": [
    "Some of the popular languages that Data Scientists us are:\n",
    "1. Python\n",
    "2. R\n",
    "3. SQL"
   ]
  },
  {
   "cell_type": "markdown",
   "id": "04624b2a-d39e-4068-80e8-f408bbe71304",
   "metadata": {
    "tags": []
   },
   "source": [
    "Some of the commonly used libraries used by Data Scientists include:\n",
    "1. Pandas\n",
    "2. Numpy\n",
    "3. SciKitLearn\n",
    "4. TensorFlow\n",
    "5. PyTorch"
   ]
  },
  {
   "cell_type": "markdown",
   "id": "52cef1b1-9538-44e0-affd-0fd83e45154c",
   "metadata": {},
   "source": [
    "| Data Science Tools |\n",
    "| --- |\n",
    "| JupyterLab |\n",
    "| Anaconda / Conda |\n",
    "| VSCode | "
   ]
  },
  {
   "cell_type": "markdown",
   "id": "748cccbd-270e-4ab6-aed6-a056fcd5e569",
   "metadata": {},
   "source": [
    "### Below are a few examples of evaluating arithmetic expressions in Python."
   ]
  },
  {
   "cell_type": "code",
   "execution_count": 2,
   "id": "b7215311-38e6-458a-8cbf-e110d7c88e7a",
   "metadata": {},
   "outputs": [
    {
     "data": {
      "text/plain": [
       "17"
      ]
     },
     "execution_count": 2,
     "metadata": {},
     "output_type": "execute_result"
    }
   ],
   "source": [
    "# This is a simple arethmetic expression to multiply then add integers\n",
    "(3*4)+5"
   ]
  },
  {
   "cell_type": "code",
   "execution_count": 3,
   "id": "6ff56595-0ae5-4960-9303-7569aa27c73f",
   "metadata": {},
   "outputs": [
    {
     "data": {
      "text/plain": [
       "3.3333333333333335"
      ]
     },
     "execution_count": 3,
     "metadata": {},
     "output_type": "execute_result"
    }
   ],
   "source": [
    "# This will convert 200 minutes to hours by dividing by 60\n",
    "200/60"
   ]
  },
  {
   "cell_type": "markdown",
   "id": "0e737caa-de61-4596-bad6-84459517685a",
   "metadata": {
    "tags": []
   },
   "source": [
    "Objectives:\n",
    "* List of popular languages data science \n",
    "* popular data science tools \n",
    "* commenting code cells \n",
    "* using python for integer arithmetic \n",
    "* using python for float arithmetic"
   ]
  },
  {
   "cell_type": "markdown",
   "id": "946ef26d-ad3a-412d-bb43-c5f4e3201a33",
   "metadata": {
    "tags": []
   },
   "source": [
    "## Author\n",
    "Justin Brewer"
   ]
  },
  {
   "cell_type": "code",
   "execution_count": null,
   "id": "3e7e75ec-cedb-487a-8e99-2945fbb144ff",
   "metadata": {
    "tags": []
   },
   "outputs": [],
   "source": []
  }
 ],
 "metadata": {
  "kernelspec": {
   "display_name": "Python 3 (ipykernel)",
   "language": "python",
   "name": "python3"
  },
  "language_info": {
   "codemirror_mode": {
    "name": "ipython",
    "version": 3
   },
   "file_extension": ".py",
   "mimetype": "text/x-python",
   "name": "python",
   "nbconvert_exporter": "python",
   "pygments_lexer": "ipython3",
   "version": "3.8.3"
  }
 },
 "nbformat": 4,
 "nbformat_minor": 5
}
